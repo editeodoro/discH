{
 "cells": [
  {
   "cell_type": "code",
   "execution_count": null,
   "metadata": {
    "collapsed": true
   },
   "outputs": [],
   "source": [
    "import discH\n",
    "import discH.dynamic_component as dc"
   ]
  },
  {
   "cell_type": "markdown",
   "metadata": {},
   "source": [
    "Halo Models"
   ]
  },
  {
   "cell_type": "code",
   "execution_count": 4,
   "metadata": {},
   "outputs": [
    {
     "name": "stdout",
     "output_type": "stream",
     "text": [
      "Model: Isothermal halo\n",
      "d0: 1.00e+06 Msun/kpc3 \n",
      "rc: 5.00\n",
      "e: 0.000 \n",
      "mcut: 100.000 \n",
      "\n"
     ]
    }
   ],
   "source": [
    "#Isothermal halo\n",
    "#d=d0*(1+m*m/rc*rc)^(-1)\n",
    "d0=1e6 #Cental density in Msun/kpc3\n",
    "rc=5 #Core radius in Kpc\n",
    "mcut=100 #radius where d(m>mcut)=0\n",
    "e=0 #ellipticity\n",
    "iso_halo=dc.isothermal_halo(d0=d0, rc=rc, mcut=mcut, e=e)\n",
    "print(iso_halo)"
   ]
  },
  {
   "cell_type": "code",
   "execution_count": 7,
   "metadata": {},
   "outputs": [
    {
     "name": "stdout",
     "output_type": "stream",
     "text": [
      "Model: NFW halo\n",
      "d0: 1.00e+06 Msun/kpc3 \n",
      "rs: 5.00\n",
      "e: 0.000 \n",
      "mcut: 100.000 \n",
      "\n"
     ]
    }
   ],
   "source": [
    "#NFW halo\n",
    "#d=d0*( (m/rs)^(-1) ) * ( (1+m/rs)^(-2) )  \n",
    "d0=1e6 #Scale density in Msun/kpc3\n",
    "rs=5 #Scale radius in Kpc\n",
    "mcut=100 #radius where d(m>mcut)=0\n",
    "e=0 #ellipticity\n",
    "nfw_halo=dc.NFW_halo(d0=d0, rs=rs, mcut=mcut, e=e)\n",
    "print(nfw_halo)"
   ]
  },
  {
   "cell_type": "code",
   "execution_count": 9,
   "metadata": {},
   "outputs": [
    {
     "name": "stdout",
     "output_type": "stream",
     "text": [
      "Model: AlfaBeta halo\n",
      "d0: 1.00e+06 Msun/kpc3 \n",
      "rs: 5.00\n",
      "alfa: 1.5\n",
      "alfa: 2.8\n",
      "e: 0.000 \n",
      "mcut: 100.000 \n",
      "\n"
     ]
    }
   ],
   "source": [
    "#alfabeta halo\n",
    "#d=d0*( (m/rs)^(-alfa) ) * ( (1+m/rs)^(-(beta-alfa)) )  \n",
    "d0=1e6 #Scale density in Msun/kpc3\n",
    "rs=5 #Scale radius in Kpc\n",
    "mcut=100 #radius where d(m>mcut)=0\n",
    "e=0 #ellipticity\n",
    "alfa=1.5 #Inner slope\n",
    "beta=2.8 #Outer slope\n",
    "ab_halo=dc.alfabeta_halo(d0=d0,alfa=alfa, beta=beta, rs=rs, mcut=mcut, e=e)\n",
    "print(ab_halo)"
   ]
  },
  {
   "cell_type": "code",
   "execution_count": 11,
   "metadata": {},
   "outputs": [
    {
     "name": "stdout",
     "output_type": "stream",
     "text": [
      "Model: Hernquist halo\n",
      "d0: 1.00e+06 Msun/kpc3 \n",
      "rs: 5.00\n",
      "e: 0.000 \n",
      "mcut: 100.000 \n",
      "\n"
     ]
    }
   ],
   "source": [
    "#hernquist halo\n",
    "#d=d0*( (m/rs)^(-1) ) * ( (1+m/rs)^(-2 )  \n",
    "d0=1e6 #Scale density in Msun/kpc3\n",
    "rs=5 #Scale radius in Kpc\n",
    "mcut=100 #radius where d(m>mcut)=0\n",
    "e=0 #ellipticity\n",
    "he_halo=dc.hernquist_halo(d0=d0, rs=rs, mcut=mcut, e=e)\n",
    "print(he_halo)"
   ]
  },
  {
   "cell_type": "code",
   "execution_count": 12,
   "metadata": {},
   "outputs": [
    {
     "name": "stdout",
     "output_type": "stream",
     "text": [
      "Model: deVacouler like halo\n",
      "d0: 1.00e+06 Msun/kpc3 \n",
      "rs: 5.00\n",
      "e: 0.000 \n",
      "mcut: 100.000 \n",
      "\n"
     ]
    }
   ],
   "source": [
    "#deVacouler like halo\n",
    "#d=d0*( (m/rs)^(-3/2) ) * ( (1+m/rs)^(-5/3) )  \n",
    "#It is an approximation of the R1/4 law\n",
    "d0=1e6 #Scale density in Msun/kpc3\n",
    "rs=5 #Scale radius in Kpc\n",
    "mcut=100 #radius where d(m>mcut)=0\n",
    "e=0 #ellipticity\n",
    "dv_halo=dc.deVacouler_like_halo(d0=d0, rs=rs, mcut=mcut, e=e)\n",
    "print(dv_halo)"
   ]
  },
  {
   "cell_type": "code",
   "execution_count": 13,
   "metadata": {},
   "outputs": [
    {
     "name": "stdout",
     "output_type": "stream",
     "text": [
      "Model: Plummer halo\n",
      "Mass: 2.95e+08 Msun \n",
      "d0: 1.00e+06 Msun/kpc3 \n",
      "rc: 5.00\n",
      "e: 0.700 \n",
      "mcut: 100.000 \n",
      "\n"
     ]
    }
   ],
   "source": [
    "#Plummer halo\n",
    "#d=d0*( (1+m*m/rs*rs)^(-5/2) )  \n",
    "d0=1e6 #Central density in Msun/kpc3\n",
    "rc=5 #Core radius in Kpc\n",
    "mcut=100 #radius where d(m>mcut)=0\n",
    "e=0.7 #ellipticity\n",
    "pl_halo=dc.plummer_halo(d0=d0, rc=rc, mcut=mcut, e=e)\n",
    "print(pl_halo)"
   ]
  },
  {
   "cell_type": "markdown",
   "metadata": {},
   "source": [
    "Disc Models"
   ]
  },
  {
   "cell_type": "code",
   "execution_count": 20,
   "metadata": {},
   "outputs": [
    {
     "name": "stdout",
     "output_type": "stream",
     "text": [
      "Model: Exponential disc \n",
      "Sigma0: 1.00e+06 Msun/kpc2 \n",
      "Vertical density law: gau\n",
      "Radial density law: epoly \n",
      "Rd: 2.000 kpc \n",
      "Flaring law: tanh \n",
      "Fparam: 0.4 15.0 1.0 0.0 0.0 0.0 0.0 0.0 0.0 0.0\n",
      "Rcut: 50.000 kpc \n",
      "zcut: 20.000 kpc \n",
      "Rlimit: None \n",
      "\n"
     ]
    }
   ],
   "source": [
    "#Exponential disc\n",
    "#Sigma(R)=Sigma0*Exp(-R/Rd)\n",
    "sigma0=1e6 #Cental surface density in Msun/kpc2\n",
    "Rd= 2 #Exponential scale length in kpc\n",
    "Rcut= 50 #Cylindrical radius where dens(R>Rcut,z)=0\n",
    "zcut= 20 #Cylindrical heigth where dens(R,|z|>zcut)=0\n",
    "zlaw='gau' #Vertical density law: it could be gau, sech2, exp\n",
    "#Vertical:\n",
    "#razor-thin disc\n",
    "ed=dc.Exponential_disc.thin(sigma0=sigma0, Rd=Rd, Rcut=Rcut, zcut=zcut)\n",
    "#constant scale-heigth\n",
    "zd=0.5 #Vertical scale heigth in kpc\n",
    "ed=dc.Exponential_disc.thick(sigma0=sigma0, Rd=Rd, Rcut=Rcut, zcut=zcut,zd=zd, zlaw=zlaw)\n",
    "#polynomial flare\n",
    "pcoeff=[0.5,1,2] #Coefficent of the polynomial zd(R)=pcoeff[0]+pcoeff[1]*R+pcoeff[2]*R*R+....\n",
    "ed=dc.Exponential_disc.polyflare(sigma0=sigma0, Rd=Rd, Rcut=Rcut, zcut=zcut, polycoeff=pcoeff, zlaw=zlaw)\n",
    "#Asinh flare\n",
    "#zd(R)=h0+c*(Arcsinh(R*R/Rf*Rf))\n",
    "h0=0.4 #Cental zd in kpc\n",
    "c=1 #\n",
    "Rf=15 #Flaring scale length in kpc\n",
    "ed=dc.Exponential_disc.asinhflare(sigma0=sigma0, Rd=Rd, Rcut=Rcut, zcut=zcut, h0=h0, c=c, Rf=Rf, zlaw=zlaw)\n",
    "#Tanh flare\n",
    "#zd(R)=h0+c*(tanh(R*R/Rf*Rf))\n",
    "h0=0.4 #Cental zd in kpc\n",
    "c=1 #\n",
    "Rf=15 #Flaring scale length in kpc\n",
    "ed=dc.Exponential_disc.tanhflare(sigma0=sigma0, Rd=Rd, Rcut=Rcut, zcut=zcut, h0=h0, c=c, Rf=Rf, zlaw=zlaw)\n",
    "print(ed)"
   ]
  },
  {
   "cell_type": "code",
   "execution_count": 27,
   "metadata": {},
   "outputs": [
    {
     "name": "stdout",
     "output_type": "stream",
     "text": [
      "Model: PolyExponential disc \n",
      "Sigma0: 1.00e+06 Msun/kpc2 \n",
      "Vertical density law: gau\n",
      "Radial density law: epoly \n",
      "Rd: 2.000 kpc \n",
      "Polycoeff: 1.0 0.2 0.1 0.0 0.0 0.0 0.0 0.0 0.0\n",
      "Flaring law: tanh \n",
      "Fparam: 0.4 15.0 1.0 0.0 0.0 0.0 0.0 0.0 0.0 0.0\n",
      "Rcut: 50.000 kpc \n",
      "zcut: 20.000 kpc \n",
      "Rlimit: None \n",
      "\n"
     ]
    }
   ],
   "source": [
    "#Poly Exponential disc\n",
    "#Sigma(R)=Sigma0*Exp(-R/Rd)*polynomial(R)\n",
    "sigma0=1e6 #Cental surface density in Msun/kpc2\n",
    "Rd= 2 #Exponential scale length in kpc\n",
    "Rcoeff=[1,0.2,0.1] #Coefficent of the polynomial(R)=Rcoeff[0]+Rcoeff[1]*R+Rcoeff[2]*R*R+....\n",
    "                     #Rcoeff will be always renormalised to have Rcoeff[0]=1\n",
    "Rcut= 50 #Cylindrical radius where dens(R>Rcut,z)=0\n",
    "zcut= 20 #Cylindrical heigth where dens(R,|z|>zcut)=0\n",
    "zlaw='gau' #Vertical density law: it could be gau, sech2, exp\n",
    "#Vertical:\n",
    "#razor-thin disc\n",
    "epd=dc.PolyExponential_disc.thin(sigma0=sigma0, Rd=Rd, coeff=Rcoeff, Rcut=Rcut, zcut=zcut)\n",
    "#constant scale-heigth\n",
    "zd=0.5 #Vertical scale heigth in kpc\n",
    "epd=dc.PolyExponential_disc.thick(sigma0=sigma0, Rd=Rd, coeff=Rcoeff, Rcut=Rcut, zcut=zcut, zd=zd, zlaw=zlaw)\n",
    "#polynomial flare\n",
    "pcoeff=[0.5,1,2] #Coefficent of the polynomial zd(R)=pcoeff[0]+pcoeff[1]*R+pcoeff[2]*R*R+....\n",
    "epd=dc.PolyExponential_disc.polyflare(sigma0=sigma0, Rd=Rd, coeff=Rcoeff, Rcut=Rcut, zcut=zcut, polycoeff=pcoeff, zlaw=zlaw)\n",
    "#Asinh flare\n",
    "#zd(R)=h0+c*(Arcsinh(R*R/Rf*Rf))\n",
    "h0=0.4 #Cental zd in kpc\n",
    "c=1 #\n",
    "Rf=15 #Flaring scale length in kpc\n",
    "epd=dc.PolyExponential_disc.asinhflare(sigma0=sigma0, Rd=Rd, coeff=Rcoeff, Rcut=Rcut, zcut=zcut, h0=h0, c=c, Rf=Rf, zlaw=zlaw)\n",
    "#Tanh flare\n",
    "#zd(R)=h0+c*(tanh(R*R/Rf*Rf))\n",
    "h0=0.4 #Cental zd in kpc\n",
    "c=1 #\n",
    "Rf=15 #Flaring scale length in kpc\n",
    "epd=dc.PolyExponential_disc.tanhflare(sigma0=sigma0, Rd=Rd, coeff=Rcoeff, Rcut=Rcut, zcut=zcut, h0=h0, c=c, Rf=Rf, zlaw=zlaw)\n",
    "print(epd)"
   ]
  },
  {
   "cell_type": "code",
   "execution_count": 26,
   "metadata": {},
   "outputs": [
    {
     "name": "stdout",
     "output_type": "stream",
     "text": [
      "Model: Frat disc \n",
      "Sigma0: 1.00e+06 Msun/kpc2 \n",
      "Vertical density law: gau\n",
      "Radial density law: fratlaw \n",
      "Flaring law: tanh \n",
      "Rparam: 5.0 2.0 2.0 0.0 0.0 0.0 0.0 0.0 0.0 0.0\n",
      "Fparam: 0.4 15.0 1.0 0.0 0.0 0.0 0.0 0.0 0.0 0.0\n",
      "Rcut: 50.000 kpc \n",
      "zcut: 20.000 kpc \n",
      "Rlimit: None \n",
      "\n"
     ]
    }
   ],
   "source": [
    "#Frat disc\n",
    "#Sigma(R)=Sigma0*Exp(-R/Rd)*(1+R/Rd2)^alfa\n",
    "sigma0=1e6 #Cental surface density in Msun/kpc2\n",
    "Rd= 5 #Exponential scale length in kpc\n",
    "Rd2= 2 #Secondary scale length in kpc\n",
    "alfa= 2 #Exponent \n",
    "Rcut= 50 #Cylindrical radius where dens(R>Rcut,z)=0\n",
    "zcut= 20 #Cylindrical heigth where dens(R,|z|>zcut)=0\n",
    "zlaw='gau' #Vertical density law: it could be gau, sech2, exp\n",
    "#Vertical:\n",
    "#razor-thin disc\n",
    "ed=dc.Frat_disc.thin(sigma0=sigma0, Rd=Rd, Rd2=Rd2,alpha=alfa, Rcut=Rcut, zcut=zcut)\n",
    "#constant scale-heigth\n",
    "zd=0.5 #Vertical scale heigth in kpc\n",
    "ed=dc.Frat_disc.thick(sigma0=sigma0, Rd=Rd,Rd2=Rd2,alpha=alfa, Rcut=Rcut, zcut=zcut,zd=zd, zlaw=zlaw)\n",
    "#polynomial flare\n",
    "pcoeff=[0.5,1,2] #Coefficent of the polynomial zd(R)=pcoeff[0]+pcoeff[1]*R+pcoeff[2]*R*R+....\n",
    "ed=dc.Frat_disc.polyflare(sigma0=sigma0, Rd=Rd,Rd2=Rd2,alpha=alfa,  Rcut=Rcut, zcut=zcut, polycoeff=pcoeff, zlaw=zlaw)\n",
    "#Asinh flare\n",
    "#zd(R)=h0+c*(Arcsinh(R*R/Rf*Rf))\n",
    "h0=0.4 #Cental zd in kpc\n",
    "c=1 #\n",
    "Rf=15 #Flaring scale length in kpc\n",
    "ed=dc.Frat_disc.asinhflare(sigma0=sigma0, Rd=Rd, Rd2=Rd2,alpha=alfa, Rcut=Rcut, zcut=zcut, h0=h0, c=c, Rf=Rf, zlaw=zlaw)\n",
    "#Tanh flare\n",
    "#zd(R)=h0+c*(tanh(R*R/Rf*Rf))\n",
    "h0=0.4 #Cental zd in kpc\n",
    "c=1 #\n",
    "Rf=15 #Flaring scale length in kpc\n",
    "ed=dc.Frat_disc.tanhflare(sigma0=sigma0, Rd=Rd, Rd2=Rd2,alpha=alfa, Rcut=Rcut, zcut=zcut, h0=h0, c=c, Rf=Rf, zlaw=zlaw)\n",
    "print(ed)"
   ]
  },
  {
   "cell_type": "code",
   "execution_count": 28,
   "metadata": {},
   "outputs": [
    {
     "ename": "TypeError",
     "evalue": "__init__() got an unexpected keyword argument 'Rcut'",
     "output_type": "error",
     "traceback": [
      "\u001b[0;31m---------------------------------------------------------------------------\u001b[0m",
      "\u001b[0;31mTypeError\u001b[0m                                 Traceback (most recent call last)",
      "\u001b[0;32m<ipython-input-28-9c22d3f6fca7>\u001b[0m in \u001b[0;36m<module>\u001b[0;34m()\u001b[0m\n\u001b[1;32m      9\u001b[0m \u001b[0;31m#Vertical:\u001b[0m\u001b[0;34m\u001b[0m\u001b[0;34m\u001b[0m\u001b[0m\n\u001b[1;32m     10\u001b[0m \u001b[0;31m#razor-thin disc\u001b[0m\u001b[0;34m\u001b[0m\u001b[0;34m\u001b[0m\u001b[0m\n\u001b[0;32m---> 11\u001b[0;31m \u001b[0med\u001b[0m\u001b[0;34m=\u001b[0m\u001b[0mdc\u001b[0m\u001b[0;34m.\u001b[0m\u001b[0mGaussian_disc\u001b[0m\u001b[0;34m.\u001b[0m\u001b[0mthin\u001b[0m\u001b[0;34m(\u001b[0m\u001b[0msigma0\u001b[0m\u001b[0;34m=\u001b[0m\u001b[0msigma0\u001b[0m\u001b[0;34m,\u001b[0m \u001b[0msigmad\u001b[0m\u001b[0;34m=\u001b[0m\u001b[0msigmad\u001b[0m\u001b[0;34m,\u001b[0m \u001b[0mR0\u001b[0m\u001b[0;34m=\u001b[0m\u001b[0mR0\u001b[0m\u001b[0;34m,\u001b[0m \u001b[0mRcut\u001b[0m\u001b[0;34m=\u001b[0m\u001b[0mRcut\u001b[0m\u001b[0;34m,\u001b[0m \u001b[0mzcut\u001b[0m\u001b[0;34m=\u001b[0m\u001b[0mzcut\u001b[0m\u001b[0;34m)\u001b[0m\u001b[0;34m\u001b[0m\u001b[0m\n\u001b[0m\u001b[1;32m     12\u001b[0m \u001b[0;31m#constant scale-heigth\u001b[0m\u001b[0;34m\u001b[0m\u001b[0;34m\u001b[0m\u001b[0m\n\u001b[1;32m     13\u001b[0m \u001b[0mzd\u001b[0m\u001b[0;34m=\u001b[0m\u001b[0;36m0.5\u001b[0m \u001b[0;31m#Vertical scale heigth in kpc\u001b[0m\u001b[0;34m\u001b[0m\u001b[0m\n",
      "\u001b[0;32m/Users/Giuliano/anaconda/envs/py36/lib/python3.6/site-packages/discH-2.0.1.dev0-py3.6-macosx-10.7-x86_64.egg/discH/src/pot_disc/pot_disc.py\u001b[0m in \u001b[0;36mthin\u001b[0;34m(cls, sigma0, sigmad, R0, rfit_array, Rcut, zcut)\u001b[0m\n\u001b[1;32m    887\u001b[0m \u001b[0;34m\u001b[0m\u001b[0m\n\u001b[1;32m    888\u001b[0m \u001b[0;34m\u001b[0m\u001b[0m\n\u001b[0;32m--> 889\u001b[0;31m         \u001b[0;32mreturn\u001b[0m \u001b[0mcls\u001b[0m\u001b[0;34m(\u001b[0m\u001b[0msigma0\u001b[0m\u001b[0;34m=\u001b[0m\u001b[0msigma0\u001b[0m\u001b[0;34m,\u001b[0m\u001b[0msigmad\u001b[0m\u001b[0;34m=\u001b[0m\u001b[0msigmad\u001b[0m\u001b[0;34m,\u001b[0m\u001b[0mR0\u001b[0m\u001b[0;34m=\u001b[0m\u001b[0mR0\u001b[0m\u001b[0;34m,\u001b[0m\u001b[0mfparam\u001b[0m\u001b[0;34m=\u001b[0m\u001b[0mfparam\u001b[0m\u001b[0;34m,\u001b[0m\u001b[0mzlaw\u001b[0m\u001b[0;34m=\u001b[0m\u001b[0;34m'dirac'\u001b[0m\u001b[0;34m,\u001b[0m\u001b[0mflaw\u001b[0m\u001b[0;34m=\u001b[0m\u001b[0;34m'constant'\u001b[0m\u001b[0;34m,\u001b[0m \u001b[0mRcut\u001b[0m\u001b[0;34m=\u001b[0m\u001b[0mRcut\u001b[0m\u001b[0;34m,\u001b[0m \u001b[0mzcut\u001b[0m\u001b[0;34m=\u001b[0m\u001b[0mzcut\u001b[0m\u001b[0;34m)\u001b[0m\u001b[0;34m\u001b[0m\u001b[0m\n\u001b[0m\u001b[1;32m    890\u001b[0m \u001b[0;34m\u001b[0m\u001b[0m\n\u001b[1;32m    891\u001b[0m     \u001b[0;34m@\u001b[0m\u001b[0mclassmethod\u001b[0m\u001b[0;34m\u001b[0m\u001b[0m\n",
      "\u001b[0;31mTypeError\u001b[0m: __init__() got an unexpected keyword argument 'Rcut'"
     ]
    }
   ],
   "source": [
    "#Gau disc\n",
    "#Sigma(R)=Sigma0*Exp(-0.5*((R-R0)/sigmad)^2)\n",
    "sigma0=1e6 #Cental surface density in Msun/kpc2\n",
    "R0= 5 #Radius where Sigma reach the peak\n",
    "sigmad= 2 #Dispersion\n",
    "Rcut= 50 #Cylindrical radius where dens(R>Rcut,z)=0\n",
    "zcut= 20 #Cylindrical heigth where dens(R,|z|>zcut)=0\n",
    "zlaw='gau' #Vertical density law: it could be gau, sech2, exp\n",
    "#Vertical:\n",
    "#razor-thin disc\n",
    "ed=dc.Gaussian_disc.thin(sigma0=sigma0, sigmad=sigmad, R0=R0, Rcut=Rcut, zcut=zcut)\n",
    "#constant scale-heigth\n",
    "zd=0.5 #Vertical scale heigth in kpc\n",
    "ed=dc.Gaussian_disc.thick(sigma0=sigma0, sigmad=sigmad, R0=R0, Rcut=Rcut, zcut=zcut,zd=zd, zlaw=zlaw)\n",
    "#polynomial flare\n",
    "pcoeff=[0.5,1,2] #Coefficent of the polynomial zd(R)=pcoeff[0]+pcoeff[1]*R+pcoeff[2]*R*R+....\n",
    "ed=dc.Gaussian_disc.polyflare(sigma0=sigma0, sigmad=sigmad, R0=R0,  Rcut=Rcut, zcut=zcut, polycoeff=pcoeff, zlaw=zlaw)\n",
    "#Asinh flare\n",
    "#zd(R)=h0+c*(Arcsinh(R*R/Rf*Rf))\n",
    "h0=0.4 #Cental zd in kpc\n",
    "c=1 #\n",
    "Rf=15 #Flaring scale length in kpc\n",
    "ed=dc.Gaussian_disc.asinhflare(sigma0=sigma0, sigmad=sigmad, R0=R0, Rcut=Rcut, zcut=zcut, h0=h0, c=c, Rf=Rf, zlaw=zlaw)\n",
    "#Tanh flare\n",
    "#zd(R)=h0+c*(tanh(R*R/Rf*Rf))\n",
    "h0=0.4 #Cental zd in kpc\n",
    "c=1 #\n",
    "Rf=15 #Flaring scale length in kpc\n",
    "ed=dc.Gaussian_disc.tanhflare(sigma0=sigma0, sigmad=sigmad, R0=R0, Rcut=Rcut, zcut=zcut, h0=h0, c=c, Rf=Rf, zlaw=zlaw)\n",
    "print(ed)"
   ]
  },
  {
   "cell_type": "code",
   "execution_count": null,
   "metadata": {
    "collapsed": true
   },
   "outputs": [],
   "source": []
  }
 ],
 "metadata": {
  "kernelspec": {
   "display_name": "Python 3",
   "language": "python",
   "name": "python3"
  },
  "language_info": {
   "codemirror_mode": {
    "name": "ipython",
    "version": 3
   },
   "file_extension": ".py",
   "mimetype": "text/x-python",
   "name": "python",
   "nbconvert_exporter": "python",
   "pygments_lexer": "ipython3",
   "version": "3.6.1"
  }
 },
 "nbformat": 4,
 "nbformat_minor": 2
}
